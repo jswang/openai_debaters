{
 "cells": [
  {
   "cell_type": "code",
   "execution_count": 34,
   "metadata": {},
   "outputs": [],
   "source": [
    "import os\n",
    "import subprocess\n",
    "\n",
    "os.makedirs(\"downloads\", exist_ok=True)\n",
    "issues = [\"a\", \"b\", \"c\", \"d\", \"e\", \"f\", \"g\"]\n",
    "for issue in issues:\n",
    "    if not os.path.exists(f\"downloads/measure-{issue}.html\"):\n",
    "        subprocess.Popen([\"wget\", f\"https://voterguide.sfelections.org/local-ballot-measures/measure-{issue}\", \"-O\", f\"downloads/measure-{issue}.html\"])\n",
    "    "
   ]
  },
  {
   "cell_type": "code",
   "execution_count": 35,
   "metadata": {},
   "outputs": [],
   "source": [
    "import json \n",
    "import time\n",
    "\n",
    "def wait_on_run(run, thread, client):\n",
    "    while run.status == \"queued\" or run.status == \"in_progress\":\n",
    "        run = client.beta.threads.runs.retrieve(\n",
    "            thread_id=thread.id,\n",
    "            run_id=run.id,\n",
    "        )\n",
    "        time.sleep(0.5)\n",
    "    return run\n",
    "\n",
    "import json\n",
    "\n",
    "def show_json(obj):\n",
    "    display(json.loads(obj.model_dump_json()))"
   ]
  },
  {
   "cell_type": "code",
   "execution_count": 36,
   "metadata": {},
   "outputs": [],
   "source": [
    "from openai import OpenAI\n",
    "issue = \"a\"\n",
    "\n",
    "client = OpenAI()\n",
    "debate_instructions=\"A debate is an organized argument or contest of ideas in which the \\\n",
    "    participants discuss a topic from two opposing sides.  Each side will show in an organized \\\n",
    "    and clever way why they believe to have the right answers.  They will use examples and \\\n",
    "    evidence to support their ideas while working towards a conclusion. \\\n",
    "    The aim of a debate is to convince the opposition that you are right. \\\n",
    "    When the two sides agree on the subject or when one side's arguments are more convincing \\\n",
    "    than the other side that is when the debate comes to a close. \\\n",
    "    Be concise and informative, do not repeat information already stated, and admit when you are wrong and when the other debater is right. \\\n",
    "    Respond to the Moderator's questions and to the other debater's arguments. \"\n",
    "\n",
    "# Upload the file that you want\n",
    "file = client.files.create(file=open(f\"downloads/measure-{issue}.html\", \"rb\"), purpose=\"assistants\")\n",
    "# Make your debaters\n",
    "debater_1 = client.beta.assistants.create(\n",
    "    name=\"Debater 1\",\n",
    "    instructions=debate_instructions + f\". You support Measure {issue}. You are debating someone who oppose it. Preface each of your answers with Debater 1:\",\n",
    "    tools=[{\"type\": \"retrieval\"}],\n",
    "    model=\"gpt-4-1106-preview\",\n",
    "    file_ids=[file.id]\n",
    ")\n",
    "debater_2 = client.beta.assistants.create(\n",
    "    name=\"Debater 2\",\n",
    "    instructions=debate_instructions + f\". You oppose Measure {issue}. You are debating someone who supports it. Preface each of your answers with Debater 2:\",\n",
    "    tools=[{\"type\": \"retrieval\"}],\n",
    "    model=\"gpt-4-1106-preview\",\n",
    "    file_ids=[file.id]\n",
    ")\n"
   ]
  },
  {
   "cell_type": "code",
   "execution_count": 37,
   "metadata": {},
   "outputs": [],
   "source": [
    "# Opening prompt\n",
    "thread = client.beta.threads.create()\n",
    "message = client.beta.threads.messages.create(\n",
    "    thread_id=thread.id, \n",
    "    role=\"user\", \n",
    "    content = f\"Moderator: Please concisely summarize Measure {issue} and your stance on it\"\n",
    ")"
   ]
  },
  {
   "cell_type": "code",
   "execution_count": 38,
   "metadata": {},
   "outputs": [
    {
     "name": "stdout",
     "output_type": "stream",
     "text": [
      "Debater 2: Measure A, known as the San Francisco Affordable Housing Bonds, is a proposal that aims to use $300,000,000 in general obligation bonds to fund the development of housing that will be affordable to households ranging from extremely low-income to moderate-income levels, including specific provisions for senior housing and workforce housing. While the intentions behind Measure A may be noble, the practical implications of issuing such a large amount of bonds raise significant concerns.\n",
      "\n",
      "First and foremost, the financing of these bonds through increased taxes on property could lead to a rise in living costs for all San Franciscans. An estimated average tax rate increase of $0.0057/$100 of assessed property value, while seemingly low, contributes to the overall tax burden and can compound over time, affecting both homeowners and renters. Landlords may pass on half of these tax increases to tenants, exacerbating the affordability crisis it seeks to address.\n",
      "\n",
      "Moreover, there are risks associated with the potential for mismanagement and lack of effective oversight, even with the promised independent citizen oversight and regular audits. The measure commits to a significant long-term financial obligation without sufficient guarantees of delivering the intended outcomes or proving to be the most cost-effective solution to the housing shortage. There is a legitimate concern that such a substantial investment might not yield the expected return in terms of actual affordable housing units produced.\n",
      "\n",
      "Lastly, there is the issue of prioritization and whether the bond distribution will target the populations in most critical need or be spread too thinly to make a significant impact. The current approach might not be the best or only way to tackle the complex issue of housing affordability. Alternatives that do not require such an extensive commitment of public funds should be explored more thoroughly. For these reasons, I oppose Measure A【7†source】.\n",
      "Debater 1: Measure A is a proactive initiative tailor-made for San Francisco's current housing affordability crisis. It proposes a $300 million bond to fund significant affordable housing projects, including new rentals, senior housing, workforce housing, and the rehabilitation of existing affordable units. These bonds come with stringent independent oversight, regular audits, and a commitment to auditing bond fund use by the Citizens' General Obligation Bond Oversight Committee. Not only does this measure address a moral and economic imperative by providing housing for our most vulnerable populations, but it also aligns with city policy that moderates borrowing to ensure fiscal health. The estimated tax rate is reasonable when compared to the considerable benefits that the provision of affordable housing offers. With a strong oversight framework and a focused allocation of resources, Measure A offers a structured solution to a dire need and therefore has my full support【7†source】.\n",
      "Debater 2: While Measure A is well-intended in its goal to create affordable housing, the funding mechanism and potential economic repercussions need careful scrutiny. Issuing $300 million in general obligation bonds would result in an increase in property taxes which, despite the oversight and audits proposed, does not guarantee the efficient and effective use of the funds. There are concerns about the potential for cost overruns, misallocation of funds, or projects that do not best serve the needs of those in the greatest need for affordable housing.\n",
      "\n",
      "Furthermore, by permitting landlords to pass up to 50% of their increased property tax burden to tenants, Measure A could disincentivize property investment and contribute to a rise in rental costs, countering the very purpose of the measure. Additionally, the average tax rate estimate and total debt service obligation suggest substantial long-term financial commitments for the city and its residents. The potential costs for property owners over the next 30 years must be weighed against the projected benefits, especially considering alternative solutions that might achieve similar goals without imposing such a heavy tax burden.\n",
      "\n",
      "In essence, Measure A is a short-term solution for a long-term problem that requires a more strategic, comprehensive approach to address the root causes of housing unaffordability and availability in San Francisco【7†source】.\n",
      "Debater 1: As a supporter of Measure A, I acknowledge the concerns raised by opponents like Debater 2. However, it's essential to consider that Measure A includes independent citizen oversight and regular audits, which are structured to ensure responsible management of the funds and accountability. Moreover, while property owners may experience a slight tax increase, the estimated average tax rate is modest at $0.0057/$100 of assessed property value, and the measure aligns with the city's policy to issue new bonds only as prior ones are paid off, mitigating the impact on taxpayers【7†source】.\n",
      "\n",
      "The benefits Measure A offers to the community by addressing the critical housing shortage, particularly for vulnerable populations and essential workers, outweigh the potential costs. It is designed to help San Francisco meet state-mandated housing goals that could otherwise result in penalties for the city. Investing in affordable housing is an investment in the city's socioeconomic health and resilience, ensuring that San Francisco remains a home to a diverse population, which includes everyone from nurses and teachers to seniors and families. The affordable housing crisis is a complex, pressing issue that requires decisive action now, and Measure A is a step forward in meeting this challenge.\n",
      "Debater 2: Measure A proposes the issuance of $300 million in general obligation bonds to fund the construction, development, acquisition, and rehabilitation of affordable housing in San Francisco. The intent is to address a spectrum of needs, from extremely low-income to moderate-income households, and includes plans for senior and workforce housing. However, as an opponent, I assert that the measure could impose an undue tax burden on property owners, lead to inefficient allocation of resources, or suffer from bureaucratic mismanagement. Additionally, property tax increases allowed by the measure could contribute to higher rents for tenants, who may only see a partial benefit from the creation of affordable housing units. There are concerns about the long-term financial implications and whether the bond funding is appropriately structured to address the housing crisis's root causes【7†source】.\n",
      "Debater 1: Measure A, known as the Affordable Housing Bonds proposition, aims to address the housing affordability crisis in San Francisco by issuing $300 million in general obligation bonds. The funding from these bonds would be used to construct, develop, acquire, and/or rehabilitate a range of housing. This includes workforce housing and senior housing, making it affordable to households from extremely low-income to moderate-income levels【9†source】.\n",
      "\n",
      "My stance on Measure A is supportive because it confronts the urgent need for affordable housing options in San Francisco, which is essential for preserving the city's diverse community and supporting residents who are vital to its functioning and character. The proposed measure comes with mechanisms for independent citizen oversight and regular audits, ensuring accountability in the allocation and use of the bond funds. This responsible approach to increasing the city's affordable housing stock is a step forward in addressing the widening gap between wages and housing costs, making San Francisco a more inclusive city for all.\n",
      "Moderator: Please concisely summarize Measure a and your stance on it\n"
     ]
    }
   ],
   "source": [
    "# Debate\n",
    "num_rounds = 3\n",
    "\n",
    "# Let em at it!\n",
    "for i in range(num_rounds):\n",
    "    for debater in [debater_1, debater_2]:\n",
    "        run = client.beta.threads.runs.create(\n",
    "            thread_id=thread.id,\n",
    "            assistant_id=debater.id,\n",
    "        )\n",
    "        run = wait_on_run(run, thread, client)\n",
    "        messages = client.beta.threads.messages.list(thread_id=thread.id)\n",
    "    message = client.beta.threads.messages.create(\n",
    "        thread_id=thread.id, \n",
    "        role=\"user\", \n",
    "        content = f\"Moderator: Please respond to the other debator's arguments and introduce novel arguments to make your case\"\n",
    "    )\n",
    "\n",
    "\n",
    "# Closing remarks\n",
    "thread = client.beta.threads.create()\n",
    "message = client.beta.threads.messages.create(\n",
    "    thread_id=thread.id, \n",
    "    role=\"user\", \n",
    "    content = f\"Moderator: Summarize pro's and con's raied on {issue} and whether you have changed your mind\"\n",
    ")\n",
    "\n",
    "for msg in messages.data:\n",
    "    print(msg.content[0].text.value)\n"
   ]
  }
 ],
 "metadata": {
  "kernelspec": {
   "display_name": "Python 3",
   "language": "python",
   "name": "python3"
  },
  "language_info": {
   "codemirror_mode": {
    "name": "ipython",
    "version": 3
   },
   "file_extension": ".py",
   "mimetype": "text/x-python",
   "name": "python",
   "nbconvert_exporter": "python",
   "pygments_lexer": "ipython3",
   "version": "3.12.2"
  }
 },
 "nbformat": 4,
 "nbformat_minor": 2
}
