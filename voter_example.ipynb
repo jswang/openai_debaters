{
 "cells": [
  {
   "cell_type": "markdown",
   "metadata": {},
   "source": [
    "# San Francisco Voter Guide Debate\n",
    "This notebook uses the OpenAI assistant API to create a debate between a proponent and opponent on each issue in the 2024 San Francisco election. </br>\n",
    "Each is seeded with the [official city election guide](https://voterguide.sfelections.org/local-ballot-measures). <br>\n",
    "The debate instructions are included below for transparency. <br>\n",
    "To change the measure and the number of rounds, adjust below. \n"
   ]
  },
  {
   "cell_type": "code",
   "execution_count": 20,
   "metadata": {},
   "outputs": [],
   "source": [
    "# a, b, c, d, e, f, g this year\n",
    "issue = \"a\"\n",
    "assert issue in [\"a\", \"b\", \"c\", \"d\", \"e\", \"f\", \"g\"]\n",
    "# Debate\n",
    "num_rounds = 3\n",
    "debate_instructions=\"A debate is an organized argument or contest of ideas in which the \\\n",
    "    participants discuss a topic from two opposing sides.  Each side will show in an organized \\\n",
    "    and clever way why they believe to have the right answers.  They will use examples and \\\n",
    "    evidence to support their ideas while working towards a conclusion. \\\n",
    "    The aim of a debate is to convince the opposition that you are right. \\\n",
    "    When the two sides agree on the subject or when one side's arguments are more convincing \\\n",
    "    than the other side that is when the debate comes to a close. \\\n",
    "    Be concise and informative, do not repeat information already stated, and admit when you are wrong and when the other debater is right. \\\n",
    "    Respond to the Moderator's questions and to the other debater's arguments. \"\n"
   ]
  },
  {
   "cell_type": "markdown",
   "metadata": {},
   "source": [
    "# Setup\n",
    "Some helper functions from the OpenAI Assistant cookbook: https://cookbook.openai.com/examples/assistants_api_overview_python"
   ]
  },
  {
   "cell_type": "code",
   "execution_count": 21,
   "metadata": {},
   "outputs": [],
   "source": [
    "import time\n",
    "\n",
    "def wait_on_run(run, thread, client):\n",
    "    while run.status == \"queued\" or run.status == \"in_progress\":\n",
    "        run = client.beta.threads.runs.retrieve(\n",
    "            thread_id=thread.id,\n",
    "            run_id=run.id,\n",
    "        )\n",
    "        time.sleep(0.5)\n",
    "    return run"
   ]
  },
  {
   "cell_type": "markdown",
   "metadata": {},
   "source": [
    "Download the appropriate issue"
   ]
  },
  {
   "cell_type": "code",
   "execution_count": 22,
   "metadata": {},
   "outputs": [],
   "source": [
    "import os\n",
    "import subprocess\n",
    "\n",
    "os.makedirs(\"downloads\", exist_ok=True)\n",
    "if not os.path.exists(f\"downloads/measure-{issue}.html\"):\n",
    "    subprocess.Popen([\"wget\", f\"https://voterguide.sfelections.org/local-ballot-measures/measure-{issue}\", \"-O\", f\"downloads/measure-{issue}.html\"])"
   ]
  },
  {
   "cell_type": "markdown",
   "metadata": {},
   "source": [
    "# Debate\n",
    "Create assistant, will switch sides to debate itself"
   ]
  },
  {
   "cell_type": "code",
   "execution_count": 23,
   "metadata": {},
   "outputs": [],
   "source": [
    "from openai import OpenAI\n",
    "\n",
    "client = OpenAI()\n",
    "\n",
    "# Upload the file that you want\n",
    "file = client.files.create(file=open(f\"downloads/measure-{issue}.html\", \"rb\"), purpose=\"assistants\")\n",
    "# Make your debaters\n",
    "debater = client.beta.assistants.create(\n",
    "    name=\"Debater\",\n",
    "    instructions=debate_instructions,\n",
    "    tools=[{\"type\": \"retrieval\"}],\n",
    "    model=\"gpt-4-1106-preview\",\n",
    "    file_ids=[file.id]\n",
    ")\n"
   ]
  },
  {
   "cell_type": "markdown",
   "metadata": {},
   "source": [
    "As a user, act as the moderator and prompt the debater"
   ]
  },
  {
   "cell_type": "code",
   "execution_count": 29,
   "metadata": {},
   "outputs": [
    {
     "name": "stdout",
     "output_type": "stream",
     "text": [
      "User: Start debate\n",
      "Round 0 for Debater 0\n",
      "Round 1 for Debater 1\n",
      "User: Please respond\n",
      "Round 0 for Debater 0\n",
      "Round 1 for Debater 1\n",
      "User: Closing remarks\n",
      "Round 0 for Debater 0\n",
      "Round 1 for Debater 1\n"
     ]
    }
   ],
   "source": [
    "# Opening prompt, one thread for all messages\n",
    "thread = client.beta.threads.create()\n",
    "\n",
    "# Let em at it!\n",
    "for i in range(num_rounds):\n",
    "    if i == 0: \n",
    "        print(\"User: Start debate\")\n",
    "        message = client.beta.threads.messages.create(\n",
    "            thread_id=thread.id, \n",
    "            role=\"user\", \n",
    "            content = f\"Moderator: Please concisely summarize Measure {issue} and your stance on it\"\n",
    "        )\n",
    "    # Continue debate\n",
    "    elif i < num_rounds - 1:\n",
    "        print(f\"User: Please respond\")\n",
    "        message = client.beta.threads.messages.create(\n",
    "            thread_id=thread.id, \n",
    "            role=\"user\", \n",
    "            content = f\"Moderator: Please respond to the other debator's arguments and introduce novel arguments to make your case\"\n",
    "        )\n",
    "    # Closing remarks\n",
    "    else:\n",
    "        print(f\"User: Closing remarks\")\n",
    "        message = client.beta.threads.messages.create(\n",
    "            thread_id=thread.id, \n",
    "            role=\"user\", \n",
    "            content = f\"Moderator: Please provide closing remarks on your stance on Measure {issue}\"\n",
    "        )\n",
    "    # Run assistant as both sides\n",
    "    for d in range(2):\n",
    "        print(f\"Round {d} for Debater {d}\")\n",
    "        if d % 2 == 0: \n",
    "            additional_instructions = f\"You support Measure {issue}. You are debating someone who opposes it.\"\n",
    "        else:\n",
    "            additional_instructions = f\"You oppose Measure {issue}. You are debating someone who supports it.\"\n",
    "        run = client.beta.threads.runs.create(\n",
    "            thread_id=thread.id,\n",
    "            assistant_id=debater.id,\n",
    "            additional_instructions=additional_instructions\n",
    "        )\n",
    "        run = wait_on_run(run, thread, client)"
   ]
  },
  {
   "cell_type": "markdown",
   "metadata": {},
   "source": [
    "# Results\n",
    "Take a look at the results.\n",
    "Optionally export as an audio file using OpenAI's [TTS model](https://platform.openai.com/docs/guides/text-to-speech)"
   ]
  },
  {
   "cell_type": "code",
   "execution_count": 28,
   "metadata": {},
   "outputs": [
    {
     "name": "stderr",
     "output_type": "stream",
     "text": [
      "/var/folders/1z/9qprdryd55qgw3zx9n01k5jc0000gn/T/ipykernel_9124/4061108048.py:26: DeprecationWarning: Due to a bug, this method doesn't actually stream the response content, `.with_streaming_response.method()` should be used instead\n",
      "  moderator_response.stream_to_file(fout)\n"
     ]
    }
   ],
   "source": [
    "os.makedirs(\"outputs\", exist_ok=True)\n",
    "\n",
    "# Gather messages\n",
    "messages = client.beta.threads.messages.list(thread_id=thread.id)\n",
    "messages.data.reverse()\n",
    "moderator = [x.content[0].text.value for x in messages.data[0::3]]\n",
    "d1 = [x.content[0].text.value for x in messages.data[1::3]]\n",
    "d2 = [x.content[0].text.value for x in messages.data[2::3]]\n",
    "# TODO clean up  Preface each of your answers with Debater for Measure {issue}: debater heading and the weird [source] thing\n",
    "# Print to a file\n",
    "with open(f\"outputs/debate_{issue}.txt\", \"w\") as f:\n",
    "    for msg in messages.data:\n",
    "        f.write(msg.content[0].text.value + \"\\n\\n\")\n",
    "        # print(msg.content[0].text.value)\n",
    "\n",
    "# Turn them into audio\n",
    "settings = [(moderator, \"moderator\", \"onyx\"), (d1, \"d1\", \"nova\"), (d2, \"d2\", \"alloy\")]\n",
    "for msgs, filename_out, voice in settings:\n",
    "  for (i, x) in enumerate(msgs):\n",
    "    fout = f\"outputs/{filename_out}_{i}.mp3\"\n",
    "    moderator_response = client.audio.speech.create(\n",
    "      model=\"tts-1\",\n",
    "      voice=voice,\n",
    "      input=x\n",
    "    )\n",
    "    moderator_response.stream_to_file(fout)\n"
   ]
  },
  {
   "cell_type": "code",
   "execution_count": null,
   "metadata": {},
   "outputs": [],
   "source": [
    "import"
   ]
  }
 ],
 "metadata": {
  "kernelspec": {
   "display_name": "Python 3",
   "language": "python",
   "name": "python3"
  },
  "language_info": {
   "codemirror_mode": {
    "name": "ipython",
    "version": 3
   },
   "file_extension": ".py",
   "mimetype": "text/x-python",
   "name": "python",
   "nbconvert_exporter": "python",
   "pygments_lexer": "ipython3",
   "version": "3.12.2"
  }
 },
 "nbformat": 4,
 "nbformat_minor": 2
}
