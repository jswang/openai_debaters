{
 "cells": [
  {
   "cell_type": "code",
   "execution_count": 6,
   "metadata": {},
   "outputs": [],
   "source": [
    "import os\n",
    "import subprocess\n",
    "\n",
    "os.makedirs(\"downloads\", exist_ok=True)\n",
    "issues = [\"a\", \"b\", \"c\", \"d\", \"e\", \"f\", \"g\"]\n",
    "for issue in issues:\n",
    "    if not os.path.exists(f\"downloads/measure-{issue}.html\"):\n",
    "        subprocess.Popen([\"wget\", f\"https://voterguide.sfelections.org/local-ballot-measures/measure-{issue}\", \"-O\", f\"downloads/measure-{issue}.html\"])"
   ]
  },
  {
   "cell_type": "code",
   "execution_count": 8,
   "metadata": {},
   "outputs": [
    {
     "ename": "OpenAIError",
     "evalue": "The api_key client option must be set either by passing api_key to the client or by setting the OPENAI_API_KEY environment variable",
     "output_type": "error",
     "traceback": [
      "\u001b[0;31m---------------------------------------------------------------------------\u001b[0m",
      "\u001b[0;31mOpenAIError\u001b[0m                               Traceback (most recent call last)",
      "Cell \u001b[0;32mIn[8], line 2\u001b[0m\n\u001b[1;32m      1\u001b[0m \u001b[38;5;28;01mfrom\u001b[39;00m \u001b[38;5;21;01mopenai\u001b[39;00m \u001b[38;5;28;01mimport\u001b[39;00m OpenAI\n\u001b[0;32m----> 2\u001b[0m client \u001b[38;5;241m=\u001b[39m \u001b[43mOpenAI\u001b[49m\u001b[43m(\u001b[49m\u001b[43m)\u001b[49m\n\u001b[1;32m      3\u001b[0m debate_instructions\u001b[38;5;241m=\u001b[39m\u001b[38;5;124m\"\u001b[39m\u001b[38;5;124mA debate is an organized argument or contest of ideas in which the participants discuss a topic from two opposing sides.  Each side will show in an organized and clever way why they believe to have the right answers.  They will use examples and evidence to support their ideas while working towards a conclusion. The aim of a debate is to convince the opposition that you are right. When the two sides agree on the subject or when one side\u001b[39m\u001b[38;5;124m'\u001b[39m\u001b[38;5;124ms arguments are more convincing than the other side that is when the debate comes to a close. \u001b[39m\u001b[38;5;124m\"\u001b[39m\n\u001b[1;32m      4\u001b[0m \u001b[38;5;28;01mfor\u001b[39;00m issue \u001b[38;5;129;01min\u001b[39;00m issues:\n",
      "File \u001b[0;32m/Library/Frameworks/Python.framework/Versions/3.12/lib/python3.12/site-packages/openai/_client.py:98\u001b[0m, in \u001b[0;36mOpenAI.__init__\u001b[0;34m(self, api_key, organization, base_url, timeout, max_retries, default_headers, default_query, http_client, _strict_response_validation)\u001b[0m\n\u001b[1;32m     96\u001b[0m     api_key \u001b[38;5;241m=\u001b[39m os\u001b[38;5;241m.\u001b[39menviron\u001b[38;5;241m.\u001b[39mget(\u001b[38;5;124m\"\u001b[39m\u001b[38;5;124mOPENAI_API_KEY\u001b[39m\u001b[38;5;124m\"\u001b[39m)\n\u001b[1;32m     97\u001b[0m \u001b[38;5;28;01mif\u001b[39;00m api_key \u001b[38;5;129;01mis\u001b[39;00m \u001b[38;5;28;01mNone\u001b[39;00m:\n\u001b[0;32m---> 98\u001b[0m     \u001b[38;5;28;01mraise\u001b[39;00m OpenAIError(\n\u001b[1;32m     99\u001b[0m         \u001b[38;5;124m\"\u001b[39m\u001b[38;5;124mThe api_key client option must be set either by passing api_key to the client or by setting the OPENAI_API_KEY environment variable\u001b[39m\u001b[38;5;124m\"\u001b[39m\n\u001b[1;32m    100\u001b[0m     )\n\u001b[1;32m    101\u001b[0m \u001b[38;5;28mself\u001b[39m\u001b[38;5;241m.\u001b[39mapi_key \u001b[38;5;241m=\u001b[39m api_key\n\u001b[1;32m    103\u001b[0m \u001b[38;5;28;01mif\u001b[39;00m organization \u001b[38;5;129;01mis\u001b[39;00m \u001b[38;5;28;01mNone\u001b[39;00m:\n",
      "\u001b[0;31mOpenAIError\u001b[0m: The api_key client option must be set either by passing api_key to the client or by setting the OPENAI_API_KEY environment variable"
     ]
    }
   ],
   "source": [
    "from openai import OpenAI\n",
    "client = OpenAI()\n",
    "debate_instructions=\"A debate is an organized argument or contest of ideas in which the participants discuss a topic from two opposing sides.  Each side will show in an organized and clever way why they believe to have the right answers.  They will use examples and evidence to support their ideas while working towards a conclusion. The aim of a debate is to convince the opposition that you are right. When the two sides agree on the subject or when one side's arguments are more convincing than the other side that is when the debate comes to a close. \"\n",
    "for issue in issues:\n",
    "    debater_1 = client.beta.assistants.create(\n",
    "        name=\"Debater 1\",\n",
    "        instructions=debate_instructions + \".  You support Measure A. Reference measure-a file and broader context to answer questions.\",\n",
    "        model=\"gpt-4-1106-preview\",\n",
    "        file_ids=[\"downloads/measure-a.html\"]\n",
    "    )\n",
    "    debater_1 = client.beta.assistants.create(\n",
    "        name=\"Debater 2\",\n",
    "        instructions=debate_instructions + \".  You oppose Measure A. Reference the included material and broader context to answer questions.\",\n",
    "        model=\"gpt-4-1106-preview\",\n",
    "        file_ids=[\"downloads/measure-a.html\"]\n",
    "    )\n",
    "    show_json(assistant)"
   ]
  }
 ],
 "metadata": {
  "kernelspec": {
   "display_name": "Python 3",
   "language": "python",
   "name": "python3"
  },
  "language_info": {
   "codemirror_mode": {
    "name": "ipython",
    "version": 3
   },
   "file_extension": ".py",
   "mimetype": "text/x-python",
   "name": "python",
   "nbconvert_exporter": "python",
   "pygments_lexer": "ipython3",
   "version": "3.12.2"
  }
 },
 "nbformat": 4,
 "nbformat_minor": 2
}
